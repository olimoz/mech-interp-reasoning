{
 "cells": [
  {
   "cell_type": "markdown",
   "id": "3dc79961",
   "metadata": {},
   "source": [
    "## Automated Arc AGI Jupyter Notebook for d0f5fe59.json\n"
   ]
  },
  {
   "cell_type": "markdown",
   "id": "45671c4f",
   "metadata": {},
   "source": [
    "### HUMAN: Ensure warnings are disabled"
   ]
  },
  {
   "cell_type": "code",
   "execution_count": null,
   "id": "29999fa5",
   "metadata": {},
   "outputs": [],
   "source": [
    "\n",
    "import warnings\n",
    "\n",
    "# Filter out FutureWarning\n",
    "warnings.simplefilter(action='ignore', category=FutureWarning)\n",
    "    "
   ]
  },
  {
   "cell_type": "markdown",
   "id": "10a4e7fd",
   "metadata": {},
   "source": [
    "### HUMAN: Create data access functions on behalf of the AI agent team\n"
   ]
  },
  {
   "cell_type": "code",
   "execution_count": null,
   "id": "a4119d00",
   "metadata": {},
   "outputs": [],
   "source": [
    "\n",
    "\n",
    "import json\n",
    "import pprint\n",
    "import numpy as np\n",
    "from typing import List, Dict, Any\n",
    "\n",
    "def get_train(file_path: str, pair=0, print_to_screen=True):\n",
    "    with open(file_path, 'r') as file:\n",
    "        dataset = json.load(file)['train']\n",
    "\n",
    "    train_len = len(dataset)\n",
    "\n",
    "    if pair < 0 :\n",
    "        pair = 0\n",
    "    else:\n",
    "        pair = min(train_len,pair)\n",
    "\n",
    "    array_input  = np.array(dataset[pair]['input'])\n",
    "    array_output = np.array(dataset[pair]['output'])\n",
    "\n",
    "    if print_to_screen:\n",
    "        print(f\"There are {train_len} pairs of input and output in the training dataset.\")\n",
    "        print(f\"Pair {pair}\")\n",
    "        print(f\"INPUT. Shape={array_input.shape}\")\n",
    "        pprint.pprint(array_input)\n",
    "        print(f\"OUTPUT. Shape={array_output.shape}\")\n",
    "        pprint.pprint(array_output)\n",
    "\n",
    "    return array_input, array_output\n",
    "\n",
    "def output_less_input(output, input, print_to_screen=True):\n",
    "    \n",
    "    # Compare two np.arrays of integers, input and output, \n",
    "    # confirm same shape, \n",
    "    # then calculate integer difference (output-input).\n",
    "\n",
    "    if input.shape != output.shape:\n",
    "        print(\"Grids have different shapes.\")\n",
    "        return None\n",
    "    else:\n",
    "        diff = output - input\n",
    "        if print_to_screen:\n",
    "            print(f\"Output - Input = Difference\")\n",
    "            pprint.pprint(diff)\n",
    "        return diff\n",
    "\n",
    "def get_test(file_path: str, print_to_screen=True):\n",
    "\n",
    "    # datatype can be input or output \n",
    "\n",
    "    with open(file_path, 'r') as file:\n",
    "        dataset = json.load(file)\n",
    "\n",
    "    grid_test = np.array(dataset['test'][0]['input'])\n",
    "\n",
    "    if print_to_screen:\n",
    "        print(f\"TEST Input. Shape={grid_test.shape}\")\n",
    "        pprint.pprint(grid_test)\n",
    "\n",
    "    return grid_test\n",
    "\n",
    "test_counter = 0\n",
    "\n",
    "def test_outcome(file_path: str, test_prediction):\n",
    "\n",
    "    global test_counter\n",
    "\n",
    "    # Load the dataset from the JSON file\n",
    "    with open(file_path, 'r') as file:\n",
    "        dataset = json.load(file)\n",
    "\n",
    "    # Extract the actual test output from the dataset\n",
    "    test_actual = np.array(dataset['test'][0]['output'])\n",
    "\n",
    "    # Compare test_prediction with test_actual, if we have used 3 or less tries\n",
    "    if test_counter >= 3:\n",
    "        print(f\"You have no more tries, save your prediction and state the termination word.\")\n",
    "        test_outcome = None\n",
    "    else:\n",
    "        print(f\"Prediction was {np.array_equal(test_prediction, test_actual)}\")\n",
    "        test_outcome = np.array_equal(test_prediction, test_actual)\n",
    "    \n",
    "    test_counter += 1\n",
    "\n",
    "    return test_outcome\n",
    "\n",
    "    "
   ]
  },
  {
   "cell_type": "code",
   "execution_count": null,
   "id": "97303f68",
   "metadata": {},
   "outputs": [
    {
     "name": "stdout",
     "output_type": "stream",
     "text": [
      "/home/oliver/Documents/LangChain/ProductDevelopment/AutoGen/ArcAGI\n"
     ]
    }
   ],
   "source": [
    "\n",
    "\n",
    "# load challenge data from the file\n",
    "import os\n",
    "\n",
    "# set working directory\n",
    "os.chdir(\"/home/oliver/Documents/LangChain/ProductDevelopment/AutoGen/ArcAGI\")\n",
    "cwd = os.getcwd()\n",
    "print(cwd)\n",
    "\n",
    "# get data file\n",
    "file_path = 'data/training/d0f5fe59.json'\n",
    "\n",
    "# load and print the first instance of the training data\n",
    "input0, output0 = get_train(file_path, pair=0, print_to_screen=False)\n",
    "\n",
    "# note, to load the second instance of the training data we would write...\n",
    "# we can optionally view the grid data by setting print_to_screen=True\n",
    "# input1, output1 = get_train(file_path, pair=1, print_to_screen=False)\n",
    "    "
   ]
  },
  {
   "cell_type": "markdown",
   "id": "ac442712",
   "metadata": {},
   "source": [
    "### AI AGENTS: All subsequent notebook entries are by the AI agent team\n"
   ]
  },
  {
   "cell_type": "markdown",
   "id": "01cd853a",
   "metadata": {},
   "source": [
    "Certainly! Let's start by examining the first training pair. I'll access and display the input and output grids for the first pair.\n",
    "\n",
    "<br>"
   ]
  },
  {
   "cell_type": "code",
   "execution_count": null,
   "id": "5d276398",
   "metadata": {},
   "outputs": [
    {
     "name": "stdout",
     "output_type": "stream",
     "text": [
      "There are 3 pairs of input and output in the training dataset.\n",
      "Pair 0\n",
      "INPUT. Shape=(16, 10)\n",
      "array([[0, 0, 0, 0, 0, 0, 0, 0, 0, 0],\n",
      "       [0, 0, 8, 8, 0, 0, 0, 0, 0, 0],\n",
      "       [0, 0, 8, 8, 0, 0, 0, 0, 0, 0],\n",
      "       [0, 8, 8, 8, 0, 0, 0, 0, 0, 0],\n",
      "       [0, 0, 8, 0, 0, 0, 0, 0, 0, 0],\n",
      "       [0, 0, 0, 0, 0, 0, 0, 0, 0, 0],\n",
      "       [0, 0, 0, 0, 0, 8, 8, 0, 0, 0],\n",
      "       [0, 0, 0, 0, 8, 8, 8, 0, 0, 0],\n",
      "       [0, 0, 0, 0, 0, 0, 8, 0, 0, 0],\n",
      "       [0, 0, 0, 0, 0, 0, 0, 0, 0, 0],\n",
      "       [0, 0, 0, 8, 8, 0, 0, 0, 0, 0],\n",
      "       [0, 8, 8, 8, 0, 0, 0, 0, 0, 0],\n",
      "       [0, 0, 0, 8, 0, 0, 0, 8, 8, 0],\n",
      "       [0, 0, 0, 0, 0, 0, 0, 8, 8, 0],\n",
      "       [0, 0, 0, 0, 0, 0, 0, 0, 0, 0],\n",
      "       [0, 0, 0, 0, 0, 0, 0, 0, 0, 0]])\n",
      "OUTPUT. Shape=(4, 4)\n",
      "array([[8, 0, 0, 0],\n",
      "       [0, 8, 0, 0],\n",
      "       [0, 0, 8, 0],\n",
      "       [0, 0, 0, 8]])\n"
     ]
    }
   ],
   "source": [
    "input_train0, output_train0 = get_train(file_path, pair=0, print_to_screen=True)"
   ]
  },
  {
   "cell_type": "markdown",
   "id": "6cd0513e",
   "metadata": {},
   "source": [
    "Thank you for providing the first training pair. Let's analyze the transformation from the input grid to the output grid.\n",
    "\n",
    "Observations:\n",
    "1. The input grid is 16x10, while the output grid is 4x4.\n",
    "2. The input grid contains several clusters of 8s, while the output grid has a diagonal line of 8s.\n",
    "3. The number of non-zero elements (8s) in the input grid is greater than in the output grid.\n",
    "\n",
    "Hypothesis:\n",
    "Based on this single example, it's challenging to determine the exact mapping, but here's an initial hypothesis:\n",
    "\n",
    "The transformation might be detecting distinct clusters of 8s in the input grid and representing them as single 8s in the output grid. The positioning of these 8s in the output grid seems to follow a diagonal pattern, possibly related to the relative positions of the clusters in the input grid.\n",
    "\n",
    "To further refine our hypothesis, let's examine the second training pair.\n",
    "\n",
    "<br>"
   ]
  },
  {
   "cell_type": "code",
   "execution_count": null,
   "id": "97fbdaf2",
   "metadata": {},
   "outputs": [
    {
     "name": "stdout",
     "output_type": "stream",
     "text": [
      "There are 3 pairs of input and output in the training dataset.\n",
      "Pair 1\n",
      "INPUT. Shape=(12, 12)\n",
      "array([[0, 0, 0, 0, 0, 0, 0, 0, 0, 0, 0, 0],\n",
      "       [0, 0, 0, 8, 0, 0, 0, 0, 0, 0, 0, 0],\n",
      "       [0, 8, 8, 8, 0, 0, 0, 0, 0, 0, 0, 0],\n",
      "       [0, 8, 8, 0, 0, 0, 0, 8, 0, 0, 0, 0],\n",
      "       [0, 0, 0, 0, 0, 8, 8, 8, 8, 0, 0, 0],\n",
      "       [0, 0, 0, 0, 0, 8, 0, 8, 0, 0, 0, 0],\n",
      "       [0, 0, 0, 0, 0, 0, 0, 0, 0, 0, 0, 0],\n",
      "       [0, 0, 0, 0, 0, 0, 0, 0, 0, 0, 0, 0],\n",
      "       [0, 0, 0, 8, 8, 0, 0, 0, 0, 0, 0, 0],\n",
      "       [0, 0, 0, 8, 8, 0, 0, 0, 0, 0, 0, 0],\n",
      "       [0, 0, 0, 0, 0, 0, 0, 0, 0, 0, 0, 0],\n",
      "       [0, 0, 0, 0, 0, 0, 0, 0, 0, 0, 0, 0]])\n",
      "OUTPUT. Shape=(3, 3)\n",
      "array([[8, 0, 0],\n",
      "       [0, 8, 0],\n",
      "       [0, 0, 8]])\n"
     ]
    }
   ],
   "source": [
    "input_train1, output_train1 = get_train(file_path, pair=1, print_to_screen=True)"
   ]
  },
  {
   "cell_type": "markdown",
   "id": "6e37b264",
   "metadata": {},
   "source": [
    "Thank you for providing the second training pair. Let's analyze this new information and refine our hypothesis.\n",
    "\n",
    "Observations for the second pair:\n",
    "1. The input grid is 12x12, while the output grid is 3x3.\n",
    "2. The input grid contains several clusters of 8s, while the output grid has a diagonal line of 8s.\n",
    "3. There are 4 distinct clusters of 8s in the input grid, but only 3 8s in the output grid.\n",
    "\n",
    "Refined Hypothesis:\n",
    "Based on these two examples, we can refine our hypothesis:\n",
    "\n",
    "1. The transformation is detecting distinct clusters of 8s in the input grid.\n",
    "2. Each cluster in the input grid is represented by a single 8 in the output grid.\n",
    "3. The output grid is always square, with dimensions equal to the number of distinct clusters in the input (up to a maximum, possibly 4x4).\n",
    "4. The 8s in the output grid are arranged in a diagonal pattern from top-left to bottom-right.\n",
    "5. If there are fewer clusters than the maximum output size, the remaining cells are filled with 0s.\n",
    "\n",
    "To further validate this hypothesis, let's examine the third and final training pair.\n",
    "\n",
    "<br>"
   ]
  },
  {
   "cell_type": "code",
   "execution_count": null,
   "id": "a35e832b",
   "metadata": {},
   "outputs": [
    {
     "name": "stdout",
     "output_type": "stream",
     "text": [
      "There are 3 pairs of input and output in the training dataset.\n",
      "Pair 2\n",
      "INPUT. Shape=(8, 12)\n",
      "array([[0, 0, 0, 0, 0, 0, 0, 0, 0, 0, 0, 0],\n",
      "       [0, 0, 0, 0, 0, 0, 0, 0, 0, 0, 0, 0],\n",
      "       [0, 0, 8, 8, 0, 0, 0, 0, 0, 0, 0, 0],\n",
      "       [0, 0, 8, 8, 8, 0, 0, 0, 8, 0, 0, 0],\n",
      "       [0, 0, 0, 8, 8, 0, 0, 0, 8, 8, 0, 0],\n",
      "       [0, 0, 0, 0, 0, 0, 0, 0, 8, 0, 0, 0],\n",
      "       [0, 0, 0, 0, 0, 0, 0, 0, 0, 0, 0, 0],\n",
      "       [0, 0, 0, 0, 0, 0, 0, 0, 0, 0, 0, 0]])\n",
      "OUTPUT. Shape=(2, 2)\n",
      "array([[8, 0],\n",
      "       [0, 8]])\n"
     ]
    }
   ],
   "source": [
    "input_train2, output_train2 = get_train(file_path, pair=2, print_to_screen=True)"
   ]
  },
  {
   "cell_type": "markdown",
   "id": "299c2243",
   "metadata": {},
   "source": [
    "Thank you for providing the third training pair. Let's analyze this final example and refine our hypothesis further.\n",
    "\n",
    "Observations for the third pair:\n",
    "1. The input grid is 8x12, while the output grid is 2x2.\n",
    "2. The input grid contains two distinct clusters of 8s.\n",
    "3. The output grid has two 8s arranged diagonally.\n",
    "\n",
    "Final Refined Hypothesis:\n",
    "Based on all three examples, we can finalize our hypothesis:\n",
    "\n",
    "1. The transformation identifies distinct clusters of connected 8s in the input grid.\n",
    "2. Each cluster in the input grid, regardless of its size or shape, is represented by a single 8 in the output grid.\n",
    "3. The output grid is always square, with dimensions equal to the number of distinct clusters in the input.\n",
    "4. The 8s in the output grid are arranged in a diagonal pattern from top-left to bottom-right.\n",
    "5. If there are fewer clusters than the maximum output size, the remaining cells are filled with 0s.\n",
    "\n",
    "This hypothesis consistently explains the transformation in all three training pairs:\n",
    "- In the first pair, there were 4 clusters, resulting in a 4x4 output with a diagonal of 8s.\n",
    "- In the second pair, there were 3 clusters, resulting in a 3x3 output with a diagonal of 8s.\n",
    "- In the third pair, there were 2 clusters, resulting in a 2x2 output with a diagonal of 8s.\n",
    "\n",
    "The transformation seems to be a combination of segmentation (identifying distinct clusters), morphology (reducing each cluster to a single point), and geometric transformation (arranging the points in a diagonal pattern).\n",
    "\n",
    "Now that we have analyzed all training pairs and formulated a hypothesis, we can proceed to view the test input grid and predict its output.\n",
    "\n",
    "<br>"
   ]
  },
  {
   "cell_type": "code",
   "execution_count": null,
   "id": "1db91239",
   "metadata": {},
   "outputs": [
    {
     "name": "stdout",
     "output_type": "stream",
     "text": [
      "TEST Input. Shape=(15, 12)\n",
      "array([[0, 0, 0, 0, 0, 0, 0, 0, 0, 0, 0, 0],\n",
      "       [0, 0, 0, 0, 0, 0, 0, 0, 0, 8, 0, 0],\n",
      "       [0, 0, 0, 0, 0, 8, 0, 0, 8, 8, 0, 0],\n",
      "       [0, 0, 0, 8, 8, 8, 0, 0, 8, 8, 0, 0],\n",
      "       [0, 0, 0, 0, 8, 8, 0, 0, 0, 0, 0, 0],\n",
      "       [0, 0, 0, 0, 0, 0, 0, 0, 0, 0, 0, 0],\n",
      "       [0, 0, 0, 0, 0, 0, 0, 0, 0, 0, 0, 0],\n",
      "       [0, 0, 0, 0, 0, 0, 0, 0, 0, 0, 0, 0],\n",
      "       [0, 0, 0, 0, 0, 0, 0, 0, 0, 0, 0, 0],\n",
      "       [0, 8, 8, 0, 0, 0, 0, 0, 8, 8, 0, 0],\n",
      "       [0, 0, 8, 8, 0, 0, 0, 0, 8, 8, 8, 0],\n",
      "       [0, 0, 0, 8, 0, 0, 0, 0, 0, 0, 0, 0],\n",
      "       [0, 0, 0, 0, 0, 0, 0, 0, 0, 0, 0, 0],\n",
      "       [0, 0, 0, 0, 0, 0, 8, 8, 0, 0, 0, 0],\n",
      "       [0, 0, 0, 0, 0, 0, 0, 0, 0, 0, 0, 0]])\n"
     ]
    }
   ],
   "source": [
    "input_test = get_test('data/training/d0f5fe59.json', print_to_screen=True)"
   ]
  },
  {
   "cell_type": "markdown",
   "id": "6e74576b",
   "metadata": {},
   "source": [
    "Based on our refined hypothesis and the test input grid, let's predict the output:\n",
    "\n",
    "1. First, we need to count the number of distinct clusters of 8s in the input grid:\n",
    "   - There's a cluster in the top-right corner\n",
    "   - There's a cluster in the top-middle\n",
    "   - There's a cluster in the middle-left\n",
    "   - There's a cluster in the middle-right\n",
    "   - There's a small cluster in the bottom-middle\n",
    "\n",
    "2. We can identify 5 distinct clusters of 8s in the input grid.\n",
    "\n",
    "3. According to our hypothesis, the output grid should be a 5x5 square with 8s arranged diagonally from top-left to bottom-right.\n",
    "\n",
    "Therefore, our predicted output grid is:\n",
    "\n",
    "<br>\n",
    "\n",
    "Let's save this prediction:\n",
    "\n",
    "<br>\n",
    "\n",
    "This prediction is based on our hypothesis derived from the training data. It maintains the pattern of representing each distinct cluster with a single 8, arranging them diagonally in a square grid with dimensions equal to the number of clusters."
   ]
  },
  {
   "cell_type": "code",
   "execution_count": null,
   "id": "bed8a289",
   "metadata": {},
   "outputs": [
    {
     "data": {
      "text/plain": [
       "[[8, 0, 0, 0, 0],\n",
       " [0, 8, 0, 0, 0],\n",
       " [0, 0, 8, 0, 0],\n",
       " [0, 0, 0, 8, 0],\n",
       " [0, 0, 0, 0, 8]]"
      ]
     },
     "execution_count": null,
     "metadata": {},
     "output_type": "execute_result"
    }
   ],
   "source": [
    "[[8, 0, 0, 0, 0],\n",
    " [0, 8, 0, 0, 0],\n",
    " [0, 0, 8, 0, 0],\n",
    " [0, 0, 0, 8, 0],\n",
    " [0, 0, 0, 0, 8]]"
   ]
  },
  {
   "cell_type": "code",
   "execution_count": null,
   "id": "c2e6c925",
   "metadata": {},
   "outputs": [],
   "source": [
    "output_test = np.array([[8, 0, 0, 0, 0],\n",
    "                        [0, 8, 0, 0, 0],\n",
    "                        [0, 0, 8, 0, 0],\n",
    "                        [0, 0, 0, 8, 0],\n",
    "                        [0, 0, 0, 0, 8]])\n",
    "\n",
    "np.savetxt('predictions/training/d0f5fe59.json_output_test.txt', output_test, fmt='%d', delimiter=',')"
   ]
  },
  {
   "cell_type": "markdown",
   "id": "23d867c7",
   "metadata": {},
   "source": [
    "Based on our refined hypothesis and the test input grid, let's predict the output:\n",
    "\n",
    "1. First, we need to count the number of distinct clusters of 8s in the input grid:\n",
    "   - There's a cluster in the top-right corner\n",
    "   - There's a cluster in the top-middle\n",
    "   - There's a cluster in the middle-left\n",
    "   - There's a cluster in the middle-right\n",
    "   - There's a small cluster in the bottom-middle\n",
    "\n",
    "2. We can identify 5 distinct clusters of 8s in the input grid.\n",
    "\n",
    "3. According to our hypothesis, the output grid should be a 5x5 square with 8s arranged diagonally from top-left to bottom-right.\n",
    "\n",
    "Therefore, our predicted output grid is:\n",
    "\n",
    "<br>\n",
    "\n",
    "Let's save this prediction:\n",
    "\n",
    "<br>\n",
    "\n",
    "This prediction is based on our hypothesis derived from the training data. It maintains the pattern of representing each distinct cluster with a single 8, arranging them diagonally in a square grid with dimensions equal to the number of clusters."
   ]
  },
  {
   "cell_type": "code",
   "execution_count": null,
   "id": "2f5fca98",
   "metadata": {},
   "outputs": [
    {
     "data": {
      "text/plain": [
       "[[8, 0, 0, 0, 0],\n",
       " [0, 8, 0, 0, 0],\n",
       " [0, 0, 8, 0, 0],\n",
       " [0, 0, 0, 8, 0],\n",
       " [0, 0, 0, 0, 8]]"
      ]
     },
     "execution_count": null,
     "metadata": {},
     "output_type": "execute_result"
    }
   ],
   "source": [
    "[[8, 0, 0, 0, 0],\n",
    " [0, 8, 0, 0, 0],\n",
    " [0, 0, 8, 0, 0],\n",
    " [0, 0, 0, 8, 0],\n",
    " [0, 0, 0, 0, 8]]"
   ]
  },
  {
   "cell_type": "code",
   "execution_count": null,
   "id": "c0ba99f7",
   "metadata": {},
   "outputs": [],
   "source": [
    "output_test = np.array([[8, 0, 0, 0, 0],\n",
    "                        [0, 8, 0, 0, 0],\n",
    "                        [0, 0, 8, 0, 0],\n",
    "                        [0, 0, 0, 8, 0],\n",
    "                        [0, 0, 0, 0, 8]])\n",
    "\n",
    "np.savetxt('predictions/training/d0f5fe59.json_output_test.txt', output_test, fmt='%d', delimiter=',')"
   ]
  },
  {
   "cell_type": "markdown",
   "id": "2003ba4d",
   "metadata": {},
   "source": [
    "### HUMAN: Duration of notebook execution\n",
    " 0 hours, 0 minutes, 22 seconds"
   ]
  },
  {
   "cell_type": "markdown",
   "id": "bd1dfcff",
   "metadata": {},
   "source": [
    "### HUMAN: End of Cells by AI Agents\n",
    " Let's test the results of their prediction."
   ]
  },
  {
   "cell_type": "code",
   "execution_count": null,
   "id": "4f9eaf71",
   "metadata": {},
   "outputs": [
    {
     "name": "stdout",
     "output_type": "stream",
     "text": [
      "Prediction is accurate?  True\n"
     ]
    }
   ],
   "source": [
    "print('Prediction is accurate? ', True)"
   ]
  }
 ],
 "metadata": {},
 "nbformat": 4,
 "nbformat_minor": 5
}
